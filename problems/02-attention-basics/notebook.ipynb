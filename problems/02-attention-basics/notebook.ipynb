{
 "cells": [
  {
   "cell_type": "markdown",
   "metadata": {},
   "source": [
    "# Problem 2: Attention Basics - Interactive Notebook\n",
    "\n",
    "This notebook helps you explore and visualize basic attention mechanisms interactively."
   ]
  },
  {
   "cell_type": "markdown",
   "metadata": {},
   "source": [
    "## Setup"
   ]
  },
  {
   "cell_type": "code",
   "execution_count": null,
   "metadata": {},
   "outputs": [],
   "source": [
    "import sys\n",
    "import torch\n",
    "import torch.nn as nn\n",
    "import matplotlib.pyplot as plt\n",
    "import seaborn as sns\n",
    "import numpy as np\n",
    "\n",
    "# Import your solution\n",
    "# When finished, uncomment the following sentence and import your own solution\n",
    "from solution import SimpleAttention\n",
    "# from problem import SimpleAttention\n",
    "\n",
    "# Set random seed for reproducibility\n",
    "torch.manual_seed(42)\n",
    "\n",
    "# Configure plotting\n",
    "sns.set_style('whitegrid')\n",
    "plt.rcParams['figure.figsize'] = (12, 8)\n",
    "\n",
    "print(\"Setup complete!\")"
   ]
  },
  {
   "cell_type": "markdown",
   "metadata": {},
   "source": [
    "## Create Attention Module"
   ]
  },
  {
   "cell_type": "code",
   "execution_count": null,
   "metadata": {},
   "outputs": [],
   "source": [
    "# Create attention module\n",
    "n_embd = 64\n",
    "attn = SimpleAttention(n_embd=n_embd)\n",
    "attn.eval()  # Disable dropout for visualization\n",
    "\n",
    "print(attn)\n",
    "print(f\"\\nTotal parameters: {sum(p.numel() for p in attn.parameters()):,}\")"
   ]
  },
  {
   "cell_type": "markdown",
   "metadata": {},
   "source": [
    "## Test Forward Pass"
   ]
  },
  {
   "cell_type": "code",
   "execution_count": null,
   "metadata": {},
   "outputs": [],
   "source": [
    "# Create sample input\n",
    "batch_size = 1\n",
    "seq_len = 8\n",
    "x = torch.randn(batch_size, seq_len, n_embd)\n",
    "\n",
    "print(f\"Input shape: {x.shape}\")\n",
    "\n",
    "# Forward pass\n",
    "with torch.no_grad():\n",
    "    output = attn(x)\n",
    "\n",
    "print(f\"Output shape: {output.shape}\")\n",
    "print(f\"\u2713 Shape preserved: {x.shape} \u2192 {output.shape}\")"
   ]
  },
  {
   "cell_type": "markdown",
   "metadata": {},
   "source": [
    "## Visualize Q, K, V Projections"
   ]
  },
  {
   "cell_type": "code",
   "execution_count": null,
   "metadata": {},
   "outputs": [],
   "source": [
    "# Extract Q, K, V for visualization\n",
    "with torch.no_grad():\n",
    "    q = attn.query(x)  # (batch, seq_len, n_embd)\n",
    "    k = attn.key(x)\n",
    "    v = attn.value(x)\n",
    "\n",
    "# Plot Q, K, V\n",
    "fig, axes = plt.subplots(1, 4, figsize=(20, 4))\n",
    "\n",
    "data = [x.squeeze().numpy(), q.squeeze().numpy(), k.squeeze().numpy(), v.squeeze().numpy()]\n",
    "titles = ['Input X', 'Query (Q)', 'Key (K)', 'Value (V)']\n",
    "\n",
    "for ax, d, title in zip(axes, data, titles):\n",
    "    im = ax.imshow(d.T, aspect='auto', cmap='RdBu_r', vmin=-2, vmax=2)\n",
    "    ax.set_title(title, fontsize=14)\n",
    "    ax.set_xlabel('Position')\n",
    "    ax.set_ylabel('Dimension')\n",
    "    plt.colorbar(im, ax=ax)\n",
    "\n",
    "plt.tight_layout()\n",
    "plt.show()\n",
    "\n",
    "print(\"Q, K, V are linear projections of the input!\")"
   ]
  },
  {
   "cell_type": "markdown",
   "metadata": {},
   "source": [
    "## Visualize Attention Scores (Q @ K^T)"
   ]
  },
  {
   "cell_type": "code",
   "execution_count": null,
   "metadata": {},
   "outputs": [],
   "source": [
    "# Compute attention scores\n",
    "with torch.no_grad():\n",
    "    q = attn.query(x)\n",
    "    k = attn.key(x)\n",
    "    \n",
    "    # Attention scores: Q @ K^T\n",
    "    attn_scores = q @ k.transpose(-2, -1)  # (batch, seq_len, seq_len)\n",
    "\n",
    "# Visualize attention scores\n",
    "plt.figure(figsize=(8, 7))\n",
    "sns.heatmap(attn_scores.squeeze().numpy(), \n",
    "            annot=True, fmt='.2f', \n",
    "            cmap='coolwarm', center=0,\n",
    "            xticklabels=range(seq_len),\n",
    "            yticklabels=range(seq_len))\n",
    "plt.title('Attention Scores (Q @ K^T)', fontsize=14)\n",
    "plt.xlabel('Key Position')\n",
    "plt.ylabel('Query Position')\n",
    "plt.tight_layout()\n",
    "plt.show()\n",
    "\n",
    "print(\"Each query position computes a score with every key position!\")"
   ]
  },
  {
   "cell_type": "markdown",
   "metadata": {},
   "source": [
    "## Visualize Attention Weights (After Softmax)"
   ]
  },
  {
   "cell_type": "code",
   "execution_count": null,
   "metadata": {},
   "outputs": [],
   "source": [
    "# Compute attention weights\n",
    "with torch.no_grad():\n",
    "    q = attn.query(x)\n",
    "    k = attn.key(x)\n",
    "    \n",
    "    attn_scores = q @ k.transpose(-2, -1)\n",
    "    attn_weights = torch.softmax(attn_scores, dim=-1)  # Normalize with softmax\n",
    "\n",
    "# Visualize attention weights\n",
    "plt.figure(figsize=(8, 7))\n",
    "sns.heatmap(attn_weights.squeeze().numpy(), \n",
    "            annot=True, fmt='.3f', \n",
    "            cmap='Blues', vmin=0, vmax=1,\n",
    "            xticklabels=range(seq_len),\n",
    "            yticklabels=range(seq_len))\n",
    "plt.title('Attention Weights (After Softmax)', fontsize=14)\n",
    "plt.xlabel('Attending to Position')\n",
    "plt.ylabel('Query Position')\n",
    "plt.tight_layout()\n",
    "plt.show()\n",
    "\n",
    "# Verify rows sum to 1\n",
    "row_sums = attn_weights.squeeze().sum(dim=-1)\n",
    "print(f\"\\nRow sums (should all be 1.0): {row_sums.numpy()}\")\n",
    "print(\"\u2713 Each query attends to all positions with weights summing to 1!\")"
   ]
  },
  {
   "cell_type": "markdown",
   "metadata": {},
   "source": [
    "## Compare Different Positions' Attention Patterns"
   ]
  },
  {
   "cell_type": "code",
   "execution_count": null,
   "metadata": {},
   "outputs": [],
   "source": [
    "# Plot attention weights for each position\n",
    "fig, axes = plt.subplots(2, 4, figsize=(16, 8))\n",
    "axes = axes.flatten()\n",
    "\n",
    "attn_weights_np = attn_weights.squeeze().numpy()\n",
    "\n",
    "for pos in range(seq_len):\n",
    "    axes[pos].bar(range(seq_len), attn_weights_np[pos])\n",
    "    axes[pos].set_title(f'Position {pos} attends to:', fontsize=12)\n",
    "    axes[pos].set_xlabel('Attending to Position')\n",
    "    axes[pos].set_ylabel('Attention Weight')\n",
    "    axes[pos].set_ylim([0, 1])\n",
    "    axes[pos].grid(axis='y', alpha=0.3)\n",
    "\n",
    "plt.tight_layout()\n",
    "plt.show()\n",
    "\n",
    "print(\"Each position has its own attention pattern!\")"
   ]
  },
  {
   "cell_type": "markdown",
   "metadata": {},
   "source": [
    "## Visualize Full Attention Process"
   ]
  },
  {
   "cell_type": "code",
   "execution_count": null,
   "metadata": {},
   "outputs": [],
   "source": [
    "# Complete attention computation\n",
    "with torch.no_grad():\n",
    "    q = attn.query(x)\n",
    "    k = attn.key(x)\n",
    "    v = attn.value(x)\n",
    "    \n",
    "    attn_scores = q @ k.transpose(-2, -1)\n",
    "    attn_weights = torch.softmax(attn_scores, dim=-1)\n",
    "    output = attn_weights @ v  # Apply attention to values\n",
    "\n",
    "# Plot input vs output\n",
    "fig, axes = plt.subplots(1, 2, figsize=(14, 5))\n",
    "\n",
    "im1 = axes[0].imshow(x.squeeze().T.numpy(), aspect='auto', cmap='viridis')\n",
    "axes[0].set_title('Input X', fontsize=14)\n",
    "axes[0].set_xlabel('Position')\n",
    "axes[0].set_ylabel('Embedding Dimension')\n",
    "plt.colorbar(im1, ax=axes[0])\n",
    "\n",
    "im2 = axes[1].imshow(output.squeeze().T.numpy(), aspect='auto', cmap='viridis')\n",
    "axes[1].set_title('Output (After Attention)', fontsize=14)\n",
    "axes[1].set_xlabel('Position')\n",
    "axes[1].set_ylabel('Embedding Dimension')\n",
    "plt.colorbar(im2, ax=axes[1])\n",
    "\n",
    "plt.tight_layout()\n",
    "plt.show()\n",
    "\n",
    "print(\"Attention transforms the input based on relationships between positions!\")"
   ]
  },
  {
   "cell_type": "markdown",
   "metadata": {},
   "source": [
    "## Experiment: Effect of Sequence Length"
   ]
  },
  {
   "cell_type": "code",
   "execution_count": null,
   "metadata": {},
   "outputs": [],
   "source": [
    "# Test with different sequence lengths\n",
    "seq_lengths = [4, 8, 16, 32]\n",
    "\n",
    "fig, axes = plt.subplots(2, 2, figsize=(14, 12))\n",
    "axes = axes.flatten()\n",
    "\n",
    "for idx, seq_len in enumerate(seq_lengths):\n",
    "    x_test = torch.randn(1, seq_len, n_embd)\n",
    "    \n",
    "    with torch.no_grad():\n",
    "        q = attn.query(x_test)\n",
    "        k = attn.key(x_test)\n",
    "        attn_scores = q @ k.transpose(-2, -1)\n",
    "        attn_weights = torch.softmax(attn_scores, dim=-1)\n",
    "    \n",
    "    im = axes[idx].imshow(attn_weights.squeeze().numpy(), \n",
    "                          cmap='Blues', vmin=0, vmax=1)\n",
    "    axes[idx].set_title(f'Sequence Length: {seq_len}', fontsize=12)\n",
    "    axes[idx].set_xlabel('Attending to Position')\n",
    "    axes[idx].set_ylabel('Query Position')\n",
    "    plt.colorbar(im, ax=axes[idx])\n",
    "\n",
    "plt.tight_layout()\n",
    "plt.show()\n",
    "\n",
    "print(\"Attention works with any sequence length!\")"
   ]
  },
  {
   "cell_type": "markdown",
   "metadata": {},
   "source": [
    "## Understand: What Does Attention Do?"
   ]
  },
  {
   "cell_type": "code",
   "execution_count": null,
   "metadata": {},
   "outputs": [],
   "source": [
    "# Create interpretable example\n",
    "seq_len = 5\n",
    "x_simple = torch.randn(1, seq_len, n_embd)\n",
    "\n",
    "with torch.no_grad():\n",
    "    q = attn.query(x_simple)\n",
    "    k = attn.key(x_simple)\n",
    "    v = attn.value(x_simple)\n",
    "    \n",
    "    attn_scores = q @ k.transpose(-2, -1)\n",
    "    attn_weights = torch.softmax(attn_scores, dim=-1)\n",
    "    output = attn_weights @ v\n",
    "\n",
    "# Show how one position's output is computed\n",
    "pos = 2\n",
    "print(f\"\\n=== Computing output for Position {pos} ===\")\n",
    "print(f\"\\nAttention weights for position {pos}:\")\n",
    "weights = attn_weights.squeeze()[pos].numpy()\n",
    "for i, w in enumerate(weights):\n",
    "    print(f\"  Position {i}: {w:.3f}\")\n",
    "\n",
    "print(f\"\\nOutput[{pos}] = weighted sum of all Values:\")\n",
    "print(f\"  = {weights[0]:.3f} \u00d7 V[0] + {weights[1]:.3f} \u00d7 V[1] + ... + {weights[4]:.3f} \u00d7 V[4]\")\n",
    "print(f\"\\nThis is how attention allows positions to gather information from other positions!\")"
   ]
  },
  {
   "cell_type": "markdown",
   "metadata": {},
   "source": [
    "## Verify Your Implementation\n",
    "\n",
    "Run the tests to make sure everything works!"
   ]
  },
  {
   "cell_type": "code",
   "execution_count": null,
   "metadata": {},
   "outputs": [],
   "source": [
    "# Quick verification\n",
    "attn = SimpleAttention(n_embd=768)\n",
    "x = torch.randn(2, 10, 768)\n",
    "output = attn(x)\n",
    "\n",
    "print(\"\u2713 Module initializes correctly\")\n",
    "print(f\"\u2713 Forward pass works: {x.shape} \u2192 {output.shape}\")\n",
    "print(f\"\u2713 Shape preserved: {x.shape == output.shape}\")\n",
    "print(\"\\n\u2705 Basic functionality verified!\")\n",
    "print(\"\\nRun 'python -m pytest test_attention.py -v' for complete validation.\")"
   ]
  }
 ],
 "metadata": {
  "kernelspec": {
   "display_name": "Python 3",
   "language": "python",
   "name": "python3"
  },
  "language_info": {
   "codemirror_mode": {
    "name": "ipython",
    "version": 3
   },
   "file_extension": ".py",
   "mimetype": "text/x-python",
   "name": "python",
   "nbconvert_exporter": "python",
   "pygments_lexer": "ipython3",
   "version": "3.8.0"
  }
 },
 "nbformat": 4,
 "nbformat_minor": 4
}