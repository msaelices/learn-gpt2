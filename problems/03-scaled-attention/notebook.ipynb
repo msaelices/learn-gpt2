{
 "cells": [
  {
   "cell_type": "markdown",
   "metadata": {},
   "source": [
    "# Problem 3: Scaled Dot-Product Attention - Interactive Notebook\n",
    "\n",
    "This notebook helps you understand why scaling is crucial for attention stability."
   ]
  },
  {
   "cell_type": "markdown",
   "metadata": {},
   "source": [
    "## Setup"
   ]
  },
  {
   "cell_type": "code",
   "execution_count": null,
   "metadata": {},
   "outputs": [],
   "source": [
    "import torch\n",
    "import torch.nn as nn\n",
    "import matplotlib.pyplot as plt\n",
    "import seaborn as sns\n",
    "import numpy as np\n",
    "\n",
    "# Import your solution\n",
    "from solution import ScaledAttention\n",
    "\n",
    "# Set random seed\n",
    "torch.manual_seed(42)\n",
    "\n",
    "# Configure plotting\n",
    "sns.set_style('whitegrid')\n",
    "plt.rcParams['figure.figsize'] = (12, 8)\n",
    "\n",
    "print(\"Setup complete!\")"
   ]
  },
  {
   "cell_type": "markdown",
   "metadata": {},
   "source": [
    "## The Problem: Why Do We Need Scaling?"
   ]
  },
  {
   "cell_type": "code",
   "execution_count": null,
   "metadata": {},
   "outputs": [],
   "source": [
    "# Demonstrate the problem with unscaled attention\n",
    "def unscaled_attention(q, k, v):\n",
    "    \"\"\"Attention WITHOUT scaling (Problem 2 style).\"\"\"\n",
    "    attn_scores = q @ k.transpose(-2, -1)\n",
    "    attn_weights = torch.softmax(attn_scores, dim=-1)\n",
    "    return attn_weights @ v, attn_weights\n",
    "\n",
    "def scaled_attention(q, k, v, d_k):\n",
    "    \"\"\"Attention WITH scaling.\"\"\"\n",
    "    attn_scores = (q @ k.transpose(-2, -1)) / (d_k ** 0.5)\n",
    "    attn_weights = torch.softmax(attn_scores, dim=-1)\n",
    "    return attn_weights @ v, attn_weights\n",
    "\n",
    "# Test with increasing dimensions\n",
    "seq_len = 5\n",
    "dimensions = [16, 64, 256, 1024]\n",
    "\n",
    "fig, axes = plt.subplots(2, 4, figsize=(18, 8))\n",
    "\n",
    "for idx, d in enumerate(dimensions):\n",
    "    # Create random Q, K, V\n",
    "    q = torch.randn(1, seq_len, d)\n",
    "    k = torch.randn(1, seq_len, d)\n",
    "    v = torch.randn(1, seq_len, d)\n",
    "    \n",
    "    # Unscaled attention\n",
    "    _, unscaled_weights = unscaled_attention(q, k, v)\n",
    "    \n",
    "    # Scaled attention\n",
    "    _, scaled_weights = scaled_attention(q, k, v, d)\n",
    "    \n",
    "    # Plot unscaled\n",
    "    im1 = axes[0, idx].imshow(unscaled_weights.squeeze().numpy(), \n",
    "                              cmap='Blues', vmin=0, vmax=1)\n",
    "    axes[0, idx].set_title(f'd={d} (Unscaled)', fontsize=11)\n",
    "    axes[0, idx].set_xlabel('Key')\n",
    "    if idx == 0:\n",
    "        axes[0, idx].set_ylabel('Query')\n",
    "    \n",
    "    # Plot scaled\n",
    "    im2 = axes[1, idx].imshow(scaled_weights.squeeze().numpy(), \n",
    "                              cmap='Blues', vmin=0, vmax=1)\n",
    "    axes[1, idx].set_title(f'd={d} (Scaled by √d)', fontsize=11)\n",
    "    axes[1, idx].set_xlabel('Key')\n",
    "    if idx == 0:\n",
    "        axes[1, idx].set_ylabel('Query')\n",
    "\n",
    "fig.colorbar(im1, ax=axes[0, :], location='right', shrink=0.8)\n",
    "fig.colorbar(im2, ax=axes[1, :], location='right', shrink=0.8)\n",
    "plt.tight_layout()\n",
    "plt.show()\n",
    "\n",
    "print(\"Notice: As dimension increases, unscaled attention becomes more 'sharp' (concentrated)\")\n",
    "print(\"Scaled attention maintains more balanced distributions!\")"
   ]
  },
  {
   "cell_type": "markdown",
   "metadata": {},
   "source": [
    "## Visualize Attention Score Distributions"
   ]
  },
  {
   "cell_type": "code",
   "execution_count": null,
   "metadata": {},
   "outputs": [],
   "source": [
    "# Compare score distributions\n",
    "dimensions = [16, 64, 256, 1024]\n",
    "seq_len = 10\n",
    "\n",
    "fig, axes = plt.subplots(1, 2, figsize=(14, 5))\n",
    "\n",
    "for d in dimensions:\n",
    "    q = torch.randn(1, seq_len, d)\n",
    "    k = torch.randn(1, seq_len, d)\n",
    "    \n",
    "    # Compute scores\n",
    "    unscaled_scores = (q @ k.transpose(-2, -1)).flatten().numpy()\n",
    "    scaled_scores = ((q @ k.transpose(-2, -1)) / (d ** 0.5)).flatten().numpy()\n",
    "    \n",
    "    # Plot distributions\n",
    "    axes[0].hist(unscaled_scores, bins=30, alpha=0.5, label=f'd={d}')\n",
    "    axes[1].hist(scaled_scores, bins=30, alpha=0.5, label=f'd={d}')\n",
    "\n",
    "axes[0].set_title('Unscaled Attention Scores', fontsize=14)\n",
    "axes[0].set_xlabel('Score Value')\n",
    "axes[0].set_ylabel('Frequency')\n",
    "axes[0].legend()\n",
    "axes[0].grid(alpha=0.3)\n",
    "\n",
    "axes[1].set_title('Scaled Attention Scores (÷ √d)', fontsize=14)\n",
    "axes[1].set_xlabel('Score Value')\n",
    "axes[1].set_ylabel('Frequency')\n",
    "axes[1].legend()\n",
    "axes[1].grid(alpha=0.3)\n",
    "\n",
    "plt.tight_layout()\n",
    "plt.show()\n",
    "\n",
    "print(\"\\nKey Insight: Without scaling, scores grow with √d, pushing softmax into saturation!\")\n",
    "print(\"Scaling keeps scores in a reasonable range regardless of dimension.\")"
   ]
  },
  {
   "cell_type": "markdown",
   "metadata": {},
   "source": [
    "## Create Scaled Attention Module"
   ]
  },
  {
   "cell_type": "code",
   "execution_count": null,
   "metadata": {},
   "outputs": [],
   "source": [
    "# Create scaled attention\n",
    "n_embd = 768\n",
    "attn = ScaledAttention(n_embd=n_embd, dropout=0.0)\n",
    "attn.eval()\n",
    "\n",
    "print(attn)\n",
    "print(f\"\\nScaling factor: 1/√{n_embd} = {1/(n_embd**0.5):.6f}\")"
   ]
  },
  {
   "cell_type": "markdown",
   "metadata": {},
   "source": [
    "## Test Scaled Attention"
   ]
  },
  {
   "cell_type": "code",
   "execution_count": null,
   "metadata": {},
   "outputs": [],
   "source": [
    "# Test forward pass\n",
    "batch_size = 2\n",
    "seq_len = 8\n",
    "\n",
    "q = torch.randn(batch_size, seq_len, n_embd)\n",
    "k = torch.randn(batch_size, seq_len, n_embd)\n",
    "v = torch.randn(batch_size, seq_len, n_embd)\n",
    "\n",
    "with torch.no_grad():\n",
    "    output, attn_weights = attn(q, k, v)\n",
    "\n",
    "print(f\"Input shapes: Q={q.shape}, K={k.shape}, V={v.shape}\")\n",
    "print(f\"Output shape: {output.shape}\")\n",
    "print(f\"Attention weights shape: {attn_weights.shape}\")\n",
    "print(f\"\\n✓ All shapes correct!\")"
   ]
  },
  {
   "cell_type": "markdown",
   "metadata": {},
   "source": [
    "## Visualize Scaled Attention Weights"
   ]
  },
  {
   "cell_type": "code",
   "execution_count": null,
   "metadata": {},
   "outputs": [],
   "source": [
    "# Create sample data\n",
    "seq_len = 10\n",
    "q = torch.randn(1, seq_len, n_embd)\n",
    "k = torch.randn(1, seq_len, n_embd)\n",
    "v = torch.randn(1, seq_len, n_embd)\n",
    "\n",
    "with torch.no_grad():\n",
    "    output, attn_weights = attn(q, k, v)\n",
    "\n",
    "# Plot attention weights\n",
    "plt.figure(figsize=(10, 8))\n",
    "sns.heatmap(attn_weights.squeeze().numpy(), \n",
    "            annot=True, fmt='.3f', \n",
    "            cmap='Blues', vmin=0, vmax=1,\n",
    "            xticklabels=range(seq_len),\n",
    "            yticklabels=range(seq_len))\n",
    "plt.title('Scaled Attention Weights', fontsize=14)\n",
    "plt.xlabel('Attending to Position')\n",
    "plt.ylabel('Query Position')\n",
    "plt.tight_layout()\n",
    "plt.show()\n",
    "\n",
    "# Verify normalization\n",
    "row_sums = attn_weights.squeeze().sum(dim=-1)\n",
    "print(f\"\\nRow sums: {row_sums.numpy()}\")\n",
    "print(\"✓ Each row sums to 1.0 (proper probability distribution)\")"
   ]
  },
  {
   "cell_type": "markdown",
   "metadata": {},
   "source": [
    "## Effect of Scaling on Softmax Gradients"
   ]
  },
  {
   "cell_type": "code",
   "execution_count": null,
   "metadata": {},
   "outputs": [],
   "source": [
    "# Demonstrate gradient flow\n",
    "def compute_gradients(scale):\n",
    "    \"\"\"Compute gradients with different scaling factors.\"\"\"\n",
    "    q = torch.randn(1, 5, 128, requires_grad=True)\n",
    "    k = torch.randn(1, 5, 128, requires_grad=True)\n",
    "    v = torch.randn(1, 5, 128, requires_grad=True)\n",
    "    \n",
    "    # Attention with given scale\n",
    "    attn_scores = (q @ k.transpose(-2, -1)) * scale\n",
    "    attn_weights = torch.softmax(attn_scores, dim=-1)\n",
    "    output = attn_weights @ v\n",
    "    \n",
    "    # Backward\n",
    "    loss = output.sum()\n",
    "    loss.backward()\n",
    "    \n",
    "    return q.grad.abs().mean().item()\n",
    "\n",
    "# Test different scales\n",
    "d = 128\n",
    "scales = [\n",
    "    (1.0, \"No scaling\"),\n",
    "    (1/d, \"Scale by 1/d\"),\n",
    "    (1/(d**0.5), \"Scale by 1/√d (correct!)\"),\n",
    "    (1/(d**0.25), \"Scale by 1/d^0.25\")\n",
    "]\n",
    "\n",
    "scale_vals = []\n",
    "grad_mags = []\n",
    "labels = []\n",
    "\n",
    "for scale, label in scales:\n",
    "    grad_mag = compute_gradients(scale)\n",
    "    scale_vals.append(scale)\n",
    "    grad_mags.append(grad_mag)\n",
    "    labels.append(label)\n",
    "    print(f\"{label:30s}: gradient magnitude = {grad_mag:.6f}\")\n",
    "\n",
    "# Plot\n",
    "plt.figure(figsize=(10, 6))\n",
    "plt.bar(range(len(labels)), grad_mags, color='steelblue')\n",
    "plt.xticks(range(len(labels)), labels, rotation=15, ha='right')\n",
    "plt.ylabel('Average Gradient Magnitude')\n",
    "plt.title('Effect of Scaling on Gradient Flow')\n",
    "plt.grid(axis='y', alpha=0.3)\n",
    "plt.tight_layout()\n",
    "plt.show()\n",
    "\n",
    "print(\"\\n✓ 1/√d scaling provides stable gradients!\")"
   ]
  },
  {
   "cell_type": "markdown",
   "metadata": {},
   "source": [
    "## Numerical Stability Test"
   ]
  },
  {
   "cell_type": "code",
   "execution_count": null,
   "metadata": {},
   "outputs": [],
   "source": [
    "# Test with very large dimensions\n",
    "large_dims = [256, 512, 1024, 2048, 4096]\n",
    "\n",
    "print(\"Testing numerical stability with large dimensions:\\n\")\n",
    "\n",
    "for d in large_dims:\n",
    "    attn_large = ScaledAttention(n_embd=d, dropout=0.0)\n",
    "    attn_large.eval()\n",
    "    \n",
    "    q = torch.randn(1, 8, d)\n",
    "    k = torch.randn(1, 8, d)\n",
    "    v = torch.randn(1, 8, d)\n",
    "    \n",
    "    with torch.no_grad():\n",
    "        output, weights = attn_large(q, k, v)\n",
    "    \n",
    "    has_nan = torch.isnan(output).any().item()\n",
    "    has_inf = torch.isinf(output).any().item()\n",
    "    \n",
    "    status = \"✓\" if not (has_nan or has_inf) else \"✗\"\n",
    "    print(f\"  d={d:4d}: {status} No NaN/Inf detected\")\n",
    "\n",
    "print(\"\\n✅ Scaled attention is numerically stable even with very large dimensions!\")"
   ]
  },
  {
   "cell_type": "markdown",
   "metadata": {},
   "source": [
    "## Dropout Visualization"
   ]
  },
  {
   "cell_type": "code",
   "execution_count": null,
   "metadata": {},
   "outputs": [],
   "source": [
    "# Create attention with dropout\n",
    "attn_dropout = ScaledAttention(n_embd=64, dropout=0.3)\n",
    "\n",
    "seq_len = 8\n",
    "q = torch.randn(1, seq_len, 64)\n",
    "k = torch.randn(1, seq_len, 64)\n",
    "v = torch.randn(1, seq_len, 64)\n",
    "\n",
    "# Training mode (with dropout)\n",
    "attn_dropout.train()\n",
    "fig, axes = plt.subplots(2, 3, figsize=(15, 10))\n",
    "\n",
    "for i in range(3):\n",
    "    output, weights = attn_dropout(q, k, v)\n",
    "    \n",
    "    # Before dropout (first row)\n",
    "    if i == 0:\n",
    "        # Compute attention without dropout for comparison\n",
    "        attn_dropout.eval()\n",
    "        _, weights_no_dropout = attn_dropout(q, k, v)\n",
    "        attn_dropout.train()\n",
    "        \n",
    "        im1 = axes[0, i].imshow(weights_no_dropout.squeeze().detach().numpy(), \n",
    "                                cmap='Blues', vmin=0, vmax=1)\n",
    "    else:\n",
    "        im1 = axes[0, i].imshow(weights_no_dropout.squeeze().detach().numpy(), \n",
    "                                cmap='Blues', vmin=0, vmax=1)\n",
    "    \n",
    "    axes[0, i].set_title(f'Without Dropout', fontsize=11)\n",
    "    \n",
    "    # After dropout (second row)\n",
    "    im2 = axes[1, i].imshow(weights.squeeze().detach().numpy(), \n",
    "                            cmap='Blues', vmin=0, vmax=1)\n",
    "    axes[1, i].set_title(f'With Dropout (Run {i+1})', fontsize=11)\n",
    "\n",
    "plt.tight_layout()\n",
    "plt.show()\n",
    "\n",
    "print(\"Dropout randomly zeros out attention weights during training (regularization)!\")"
   ]
  },
  {
   "cell_type": "markdown",
   "metadata": {},
   "source": [
    "## Compare: With vs Without Scaling"
   ]
  },
  {
   "cell_type": "code",
   "execution_count": null,
   "metadata": {},
   "outputs": [],
   "source": [
    "# Side-by-side comparison\n",
    "n_embd = 512\n",
    "seq_len = 10\n",
    "\n",
    "q = torch.randn(1, seq_len, n_embd)\n",
    "k = torch.randn(1, seq_len, n_embd)\n",
    "v = torch.randn(1, seq_len, n_embd)\n",
    "\n",
    "# Unscaled\n",
    "attn_scores_unscaled = q @ k.transpose(-2, -1)\n",
    "attn_weights_unscaled = torch.softmax(attn_scores_unscaled, dim=-1)\n",
    "\n",
    "# Scaled\n",
    "attn_scores_scaled = (q @ k.transpose(-2, -1)) / (n_embd ** 0.5)\n",
    "attn_weights_scaled = torch.softmax(attn_scores_scaled, dim=-1)\n",
    "\n",
    "# Plot\n",
    "fig, axes = plt.subplots(2, 2, figsize=(14, 12))\n",
    "\n",
    "# Scores\n",
    "im1 = axes[0, 0].imshow(attn_scores_unscaled.squeeze().numpy(), \n",
    "                        cmap='RdBu_r', center=0)\n",
    "axes[0, 0].set_title('Unscaled Scores', fontsize=12)\n",
    "plt.colorbar(im1, ax=axes[0, 0])\n",
    "\n",
    "im2 = axes[0, 1].imshow(attn_scores_scaled.squeeze().numpy(), \n",
    "                        cmap='RdBu_r', center=0)\n",
    "axes[0, 1].set_title('Scaled Scores (÷ √d)', fontsize=12)\n",
    "plt.colorbar(im2, ax=axes[0, 1])\n",
    "\n",
    "# Weights\n",
    "im3 = axes[1, 0].imshow(attn_weights_unscaled.squeeze().numpy(), \n",
    "                        cmap='Blues', vmin=0, vmax=1)\n",
    "axes[1, 0].set_title('Unscaled Weights (After Softmax)', fontsize=12)\n",
    "plt.colorbar(im3, ax=axes[1, 0])\n",
    "\n",
    "im4 = axes[1, 1].imshow(attn_weights_scaled.squeeze().numpy(), \n",
    "                        cmap='Blues', vmin=0, vmax=1)\n",
    "axes[1, 1].set_title('Scaled Weights (After Softmax)', fontsize=12)\n",
    "plt.colorbar(im4, ax=axes[1, 1])\n",
    "\n",
    "plt.tight_layout()\n",
    "plt.show()\n",
    "\n",
    "print(f\"\\nScore ranges:\")\n",
    "print(f\"  Unscaled: [{attn_scores_unscaled.min():.2f}, {attn_scores_unscaled.max():.2f}]\")\n",
    "print(f\"  Scaled:   [{attn_scores_scaled.min():.2f}, {attn_scores_scaled.max():.2f}]\")\n",
    "print(f\"\\nScaling keeps attention weights more diffuse and less peaky!\")"
   ]
  },
  {
   "cell_type": "markdown",
   "metadata": {},
   "source": [
    "## Verify Your Implementation"
   ]
  },
  {
   "cell_type": "code",
   "execution_count": null,
   "metadata": {},
   "outputs": [],
   "source": [
    "# Quick verification\n",
    "attn = ScaledAttention(n_embd=768, dropout=0.1)\n",
    "\n",
    "q = torch.randn(2, 10, 768)\n",
    "k = torch.randn(2, 10, 768)\n",
    "v = torch.randn(2, 10, 768)\n",
    "\n",
    "output, weights = attn(q, k, v)\n",
    "\n",
    "print(\"✓ Module initializes correctly\")\n",
    "print(f\"✓ Forward pass works: Q{q.shape} + K{k.shape} + V{v.shape} → {output.shape}\")\n",
    "print(f\"✓ Attention weights returned: {weights.shape}\")\n",
    "print(f\"✓ Weights sum to 1: {weights[0].sum(dim=-1).allclose(torch.ones(10))}\")\n",
    "print(\"\\n✅ Basic functionality verified!\")\n",
    "print(\"\\nRun 'python -m pytest test_scaled_attention.py -v' for complete validation.\")"
   ]
  }
 ],
 "metadata": {
  "kernelspec": {
   "display_name": "Python 3",
   "language": "python",
   "name": "python3"
  },
  "language_info": {
   "codemirror_mode": {
    "name": "ipython",
    "version": 3
   },
   "file_extension": ".py",
   "mimetype": "text/x-python",
   "name": "python",
   "nbconvert_exporter": "python",
   "pygments_lexer": "ipython3",
   "version": "3.8.0"
  }
 },
 "nbformat": 4,
 "nbformat_minor": 4
}
